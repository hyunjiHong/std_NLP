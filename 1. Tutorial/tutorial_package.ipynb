{
  "nbformat": 4,
  "nbformat_minor": 0,
  "metadata": {
    "colab": {
      "name": "tutorial_package.ipynb",
      "provenance": [],
      "authorship_tag": "ABX9TyPzEf2VXauwOnTBRbErr4fh",
      "include_colab_link": true
    },
    "kernelspec": {
      "name": "python3",
      "display_name": "Python 3"
    }
  },
  "cells": [
    {
      "cell_type": "markdown",
      "metadata": {
        "id": "view-in-github",
        "colab_type": "text"
      },
      "source": [
        "<a href=\"https://colab.research.google.com/github/hyunjiHong/std_NLP/blob/master/tutorial_package.ipynb\" target=\"_parent\"><img src=\"https://colab.research.google.com/assets/colab-badge.svg\" alt=\"Open In Colab\"/></a>"
      ]
    },
    {
      "cell_type": "markdown",
      "metadata": {
        "id": "yqux2ehNhzl_",
        "colab_type": "text"
      },
      "source": [
        "#**1. Pandas**\n",
        "\n",
        "---\n",
        "\n",
        "\n",
        "파이썬 데이터 처리를 위한 라이브러리 "
      ]
    },
    {
      "cell_type": "markdown",
      "metadata": {
        "id": "HUpAHxvziPma",
        "colab_type": "text"
      },
      "source": [
        "###데이터 구조\n",
        "\n",
        "####1) Series\n",
        "1차원 배열, index, values로 구성"
      ]
    },
    {
      "cell_type": "code",
      "metadata": {
        "id": "ky_vbd4KQWpm",
        "colab_type": "code",
        "colab": {
          "base_uri": "https://localhost:8080/",
          "height": 122
        },
        "outputId": "089b07b2-26d5-42c7-9007-956e9d245063"
      },
      "source": [
        "import pandas as pd\n",
        "data = pd.Series([1,2,3], index=[\"호박\",\"고구마\",\"단호박\"])\n",
        "print(data)\n",
        "print(data.values)\n",
        "print(data.index)"
      ],
      "execution_count": 2,
      "outputs": [
        {
          "output_type": "stream",
          "text": [
            "호박     1\n",
            "고구마    2\n",
            "단호박    3\n",
            "dtype: int64\n",
            "[1 2 3]\n",
            "Index(['호박', '고구마', '단호박'], dtype='object')\n"
          ],
          "name": "stdout"
        }
      ]
    },
    {
      "cell_type": "markdown",
      "metadata": {
        "id": "HLheGTRojdE8",
        "colab_type": "text"
      },
      "source": [
        "####2) DataFrame\n",
        "2차원 리스트, 열(columns), 인덱스(index), 값(values)으로 구성"
      ]
    },
    {
      "cell_type": "code",
      "metadata": {
        "id": "snrbe9IWkGQv",
        "colab_type": "code",
        "colab": {
          "base_uri": "https://localhost:8080/",
          "height": 175
        },
        "outputId": "956ce073-8792-483a-a730-5a4a0fc3c0a3"
      },
      "source": [
        "values = [[1,2,3],[4,5,6],[7,8,9]]\n",
        "index = ['호박', '고구마', '단호박']\n",
        "columns = ['A', 'B', 'C']\n",
        "\n",
        "df = pd.DataFrame(values,index=index,columns=columns)\n",
        "print(df)\n",
        "print(df.index)\n",
        "print(df.columns)\n",
        "print(df.values)"
      ],
      "execution_count": 5,
      "outputs": [
        {
          "output_type": "stream",
          "text": [
            "     A  B  C\n",
            "호박   1  2  3\n",
            "고구마  4  5  6\n",
            "단호박  7  8  9\n",
            "Index(['호박', '고구마', '단호박'], dtype='object')\n",
            "Index(['A', 'B', 'C'], dtype='object')\n",
            "[[1 2 3]\n",
            " [4 5 6]\n",
            " [7 8 9]]\n"
          ],
          "name": "stdout"
        }
      ]
    },
    {
      "cell_type": "markdown",
      "metadata": {
        "id": "Agt0TWl7kgA9",
        "colab_type": "text"
      },
      "source": [
        "데이터 프레임은 리스트, 시리즈, 딕셔너리, ndarrays로 생성할 수 있음 "
      ]
    },
    {
      "cell_type": "code",
      "metadata": {
        "id": "K8tVeAHclKGM",
        "colab_type": "code",
        "colab": {
          "base_uri": "https://localhost:8080/",
          "height": 140
        },
        "outputId": "07e4cecb-aadd-475a-94af-67961da46aff"
      },
      "source": [
        "#dictionary로 생성\n",
        "data = { '학번' : ['1000', '1001', '1002', '1003', '1004', '1005'],\n",
        "'이름' : [ 'Steve', 'James', 'Doyeon', 'Jane', 'Pilwoong', 'Tony'],\n",
        "         '점수': [90.72, 78.09, 98.43, 64.19, 81.30, 99.14]}\n",
        "\n",
        "df = pd.DataFrame(data)\n",
        "print(df)"
      ],
      "execution_count": 6,
      "outputs": [
        {
          "output_type": "stream",
          "text": [
            "     학번        이름     점수\n",
            "0  1000     Steve  90.72\n",
            "1  1001     James  78.09\n",
            "2  1002    Doyeon  98.43\n",
            "3  1003      Jane  64.19\n",
            "4  1004  Pilwoong  81.30\n",
            "5  1005      Tony  99.14\n"
          ],
          "name": "stdout"
        }
      ]
    },
    {
      "cell_type": "markdown",
      "metadata": {
        "id": "xre6I3NLlkrp",
        "colab_type": "text"
      },
      "source": [
        "###2-2) 데이터 프레임 응용\n",
        "\n",
        "####유용한 명령어\n",
        "* df.head(n)\n",
        "* df.tail(n)\n",
        "* df['columns name']"
      ]
    },
    {
      "cell_type": "code",
      "metadata": {
        "id": "b_SYmnDcmHGN",
        "colab_type": "code",
        "colab": {
          "base_uri": "https://localhost:8080/",
          "height": 246
        },
        "outputId": "0d88dae6-625f-452b-d0e0-8c960064170a"
      },
      "source": [
        "print(df.head(2))\n",
        "print(df.tail(2))\n",
        "print(df['학번'])"
      ],
      "execution_count": 8,
      "outputs": [
        {
          "output_type": "stream",
          "text": [
            "     학번     이름     점수\n",
            "0  1000  Steve  90.72\n",
            "1  1001  James  78.09\n",
            "     학번        이름     점수\n",
            "4  1004  Pilwoong  81.30\n",
            "5  1005      Tony  99.14\n",
            "0    1000\n",
            "1    1001\n",
            "2    1002\n",
            "3    1003\n",
            "4    1004\n",
            "5    1005\n",
            "Name: 학번, dtype: object\n"
          ],
          "name": "stdout"
        }
      ]
    },
    {
      "cell_type": "markdown",
      "metadata": {
        "id": "Dk3UK6pXmTnD",
        "colab_type": "text"
      },
      "source": [
        "#**2. Numpy**\n",
        "\n",
        "---\n",
        "\n",
        "\n",
        "* 수치 데이터를 다루는 파이썬 패키지\n",
        "* 다차원 행렬 자료구조인 ndarray를 통해 벡터 및 행렬을 사용하는 **선형대수** 계산에서 사용\n"
      ]
    },
    {
      "cell_type": "markdown",
      "metadata": {
        "id": "WjOz762gm4pi",
        "colab_type": "text"
      },
      "source": [
        "###0) 주요 모듈\n",
        "1. np.array() # 리스트, 튜플, 배열로 부터 ndarray를 생성\n",
        "2. np.asarray() # 기존의 array로 부터 ndarray를 생성\n",
        "3. np.arange() # range와 비슷\n",
        "4. np.linspace(start, end, num) # [start, end] 균일한 간격으로 num개 생성\n",
        "5. np.logspace(start, end, num) # [start, end] log scale 간격으로 num개 생성"
      ]
    },
    {
      "cell_type": "markdown",
      "metadata": {
        "id": "M0FGTgxanMWY",
        "colab_type": "text"
      },
      "source": [
        "###1) np.array()\n",
        "리스트, 튜플, 배열로 부터 ndarray를 생성"
      ]
    },
    {
      "cell_type": "code",
      "metadata": {
        "id": "d5AdyJGVoFoe",
        "colab_type": "code",
        "colab": {
          "base_uri": "https://localhost:8080/",
          "height": 70
        },
        "outputId": "cfcf8bff-dd89-4b3a-b22c-63cf518211d5"
      },
      "source": [
        "import numpy as np\n",
        "\n",
        "a = np.array([[10, 20, 30], [ 60, 70, 80]]) #리스트를 가지고 1차원 배열 생성\n",
        "print(type(a))\n",
        "print(a)"
      ],
      "execution_count": 15,
      "outputs": [
        {
          "output_type": "stream",
          "text": [
            "<class 'numpy.ndarray'>\n",
            "[[10 20 30]\n",
            " [60 70 80]]\n"
          ],
          "name": "stdout"
        }
      ]
    },
    {
      "cell_type": "code",
      "metadata": {
        "id": "Szv1Hhq3oaUj",
        "colab_type": "code",
        "colab": {
          "base_uri": "https://localhost:8080/",
          "height": 52
        },
        "outputId": "0c0b8e48-44f8-4e29-a277-506e54507a77"
      },
      "source": [
        "#행렬의 차원 및 크기를 출력\n",
        "print(a.ndim)\n",
        "print(a.shape)"
      ],
      "execution_count": 16,
      "outputs": [
        {
          "output_type": "stream",
          "text": [
            "2\n",
            "(2, 3)\n"
          ],
          "name": "stdout"
        }
      ]
    },
    {
      "cell_type": "markdown",
      "metadata": {
        "id": "jFzmlgseo39Q",
        "colab_type": "text"
      },
      "source": [
        "###2) np.arange()\n",
        "지정해준 범위에 대해서 배열을 생성\n",
        "\n",
        "\n",
        "*  numpy.arange(start, stop, step, dtype)\n",
        "* a = np.arange(n) # 0, ..., n-1까지 범위의 지정.\n",
        "* a = np.arange(i, j, k) # i부터 j-1까지 k씩 증가하는 배열.\n",
        "\n"
      ]
    },
    {
      "cell_type": "code",
      "metadata": {
        "id": "MYCYZXVXpYQV",
        "colab_type": "code",
        "colab": {
          "base_uri": "https://localhost:8080/",
          "height": 34
        },
        "outputId": "03a8b256-42e8-4bd1-8fde-d6be39aa725f"
      },
      "source": [
        "a = np.arange(1,10,2)\n",
        "a"
      ],
      "execution_count": 18,
      "outputs": [
        {
          "output_type": "execute_result",
          "data": {
            "text/plain": [
              "array([1, 3, 5, 7, 9])"
            ]
          },
          "metadata": {
            "tags": []
          },
          "execution_count": 18
        }
      ]
    },
    {
      "cell_type": "markdown",
      "metadata": {
        "id": "VN_zxVxFplvp",
        "colab_type": "text"
      },
      "source": [
        "###3) reshape()"
      ]
    },
    {
      "cell_type": "code",
      "metadata": {
        "id": "ZGHhZLoMpwa4",
        "colab_type": "code",
        "colab": {
          "base_uri": "https://localhost:8080/",
          "height": 105
        },
        "outputId": "3b0b5f25-d1a4-41d1-c52b-89e1e330c942"
      },
      "source": [
        "a = np.array(np.arange(30)).reshape((5,6))\n",
        "a"
      ],
      "execution_count": 21,
      "outputs": [
        {
          "output_type": "execute_result",
          "data": {
            "text/plain": [
              "array([[ 0,  1,  2,  3,  4,  5],\n",
              "       [ 6,  7,  8,  9, 10, 11],\n",
              "       [12, 13, 14, 15, 16, 17],\n",
              "       [18, 19, 20, 21, 22, 23],\n",
              "       [24, 25, 26, 27, 28, 29]])"
            ]
          },
          "metadata": {
            "tags": []
          },
          "execution_count": 21
        }
      ]
    },
    {
      "cell_type": "markdown",
      "metadata": {
        "id": "3Vx7DGI6p3M4",
        "colab_type": "text"
      },
      "source": [
        "###4) numpy slicing"
      ]
    },
    {
      "cell_type": "code",
      "metadata": {
        "id": "hT3aqVk7qFiU",
        "colab_type": "code",
        "colab": {
          "base_uri": "https://localhost:8080/",
          "height": 52
        },
        "outputId": "638391ef-10c4-453b-8ba4-c2ffc77aed7a"
      },
      "source": [
        "a = np.array([[1, 2, 3], [4, 5, 6]])\n",
        "b=a[0:2, 0:2]\n",
        "print(b)"
      ],
      "execution_count": 22,
      "outputs": [
        {
          "output_type": "stream",
          "text": [
            "[[1 2]\n",
            " [4 5]]\n"
          ],
          "name": "stdout"
        }
      ]
    },
    {
      "cell_type": "markdown",
      "metadata": {
        "id": "FjKmOT8AqI2q",
        "colab_type": "text"
      },
      "source": [
        "###5) numpy 연산\n",
        "+, -, *, /의 연산자를 사용할 수 있으며, 또는 add(), substract(), multiply(), divide() 함수 사용가능\n",
        "\n",
        "  *asterisk를 통해 수행한 것은 요소별 곱. Numpy에서 벡터와 행렬의 곱 또는 행렬곱을 위해서는 dot()을 사용*\n",
        "\n"
      ]
    },
    {
      "cell_type": "code",
      "metadata": {
        "id": "JNE3GPNMqztM",
        "colab_type": "code",
        "colab": {
          "base_uri": "https://localhost:8080/",
          "height": 52
        },
        "outputId": "a13fb039-b2d8-4900-8fff-88f5004064da"
      },
      "source": [
        "a = np.array([[1,2],[3,4]])\n",
        "b = np.array([[5,6],[7,8]])\n",
        "\n",
        "c = np.dot(a, b)\n",
        "print(c)"
      ],
      "execution_count": 23,
      "outputs": [
        {
          "output_type": "stream",
          "text": [
            "[[19 22]\n",
            " [43 50]]\n"
          ],
          "name": "stdout"
        }
      ]
    },
    {
      "cell_type": "markdown",
      "metadata": {
        "id": "xqihYx_hq71q",
        "colab_type": "text"
      },
      "source": [
        "#**3. Matplotlib**\n",
        "\n",
        "---\n",
        "데이터를 차트나 플롯으로 시각화한 패키지\n",
        "* 데이터 이해를 위한 시각화\n",
        "* 데이터 분석 후 결과를 시각화"
      ]
    },
    {
      "cell_type": "code",
      "metadata": {
        "id": "_UUt00kJrc3v",
        "colab_type": "code",
        "colab": {}
      },
      "source": [
        ""
      ],
      "execution_count": 0,
      "outputs": []
    }
  ]
}